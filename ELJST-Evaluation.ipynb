{
 "cells": [
  {
   "cell_type": "code",
   "execution_count": 1,
   "metadata": {},
   "outputs": [],
   "source": [
    "from tqdm import tqdm\n",
    "from collections import Counter\n",
    "from itertools import combinations\n",
    "from nltk.stem import PorterStemmer\n",
    "import joblib \n",
    "from sklearn.metrics import silhouette_score, davies_bouldin_score\n",
    "from sklearn.metrics.pairwise import euclidean_distances\n",
    "\n",
    "import imp, glob\n",
    "import copy\n",
    "import pickle\n",
    "import multiprocessing\n",
    "\n",
    "import numpy as np\n",
    "import pandas as pd\n",
    "import utils as my_utils\n",
    "import ELJST_script_BTM as lda\n",
    "import matplotlib.pyplot as plt"
   ]
  },
  {
   "cell_type": "code",
   "execution_count": 2,
   "metadata": {},
   "outputs": [],
   "source": [
    "import utils as my_utils"
   ]
  },
  {
   "cell_type": "code",
   "execution_count": 3,
   "metadata": {},
   "outputs": [],
   "source": [
    "folder = \"dumps/processed/BTM*\""
   ]
  },
  {
   "cell_type": "markdown",
   "metadata": {},
   "source": [
    "# Model Evaluations"
   ]
  },
  {
   "cell_type": "code",
   "execution_count": 4,
   "metadata": {},
   "outputs": [],
   "source": [
    "dumps = glob.glob(folder)"
   ]
  },
  {
   "cell_type": "code",
   "execution_count": 5,
   "metadata": {},
   "outputs": [],
   "source": [
    "dumps.sort()"
   ]
  },
  {
   "cell_type": "code",
   "execution_count": 6,
   "metadata": {},
   "outputs": [
    {
     "data": {
      "text/plain": [
       "['dumps/processed/BTM_sampler_amazon_electronics_20000_noembeds',\n",
       " 'dumps/processed/BTM_sampler_amazon_home_20000_noembeds',\n",
       " 'dumps/processed/BTM_sampler_amazon_kindle_20000_noembeds',\n",
       " 'dumps/processed/BTM_sampler_amazon_movies_20000_noembeds',\n",
       " 'dumps/processed/BTM_sampler_imdb_reviews_20000_noembeds',\n",
       " 'dumps/processed/BTM_sampler_twitter_airline_9061_noembeds']"
      ]
     },
     "execution_count": 6,
     "metadata": {},
     "output_type": "execute_result"
    }
   ],
   "source": [
    "dumps"
   ]
  },
  {
   "cell_type": "code",
   "execution_count": null,
   "metadata": {},
   "outputs": [],
   "source": [
    "dumps = dumps[:-1]"
   ]
  },
  {
   "cell_type": "code",
   "execution_count": 7,
   "metadata": {},
   "outputs": [
    {
     "data": {
      "text/plain": [
       "['dumps/processed/BTM_sampler_amazon_electronics_20000_noembeds',\n",
       " 'dumps/processed/BTM_sampler_amazon_home_20000_noembeds',\n",
       " 'dumps/processed/BTM_sampler_amazon_kindle_20000_noembeds',\n",
       " 'dumps/processed/BTM_sampler_amazon_movies_20000_noembeds',\n",
       " 'dumps/processed/BTM_sampler_imdb_reviews_20000_noembeds',\n",
       " 'dumps/processed/BTM_sampler_twitter_airline_9061_noembeds']"
      ]
     },
     "execution_count": 7,
     "metadata": {},
     "output_type": "execute_result"
    }
   ],
   "source": [
    "dumps"
   ]
  },
  {
   "cell_type": "code",
   "execution_count": 8,
   "metadata": {},
   "outputs": [],
   "source": [
    "def get_scores(sampler):\n",
    "    \n",
    "    ss = silhouette_score(euclidean_distances(sampler.wordOccuranceMatrix),\n",
    "                 sampler.dt_distribution.argmax(axis=1), metric='precomputed')\n",
    "    \n",
    "    dbs = davies_bouldin_score(sampler.wordOccuranceMatrix, sampler.dt_distribution.argmax(axis=1))\n",
    "    \n",
    "    chs = my_utils.coherence_score(sampler.wordOccuranceMatrix, list(sampler.getTopKWords(5).values()), sampler.vocabulary)\n",
    "    \n",
    "    hsc = my_utils.get_hscore_multi(sampler.dt_distribution, sampler.wordOccuranceMatrix, sampler.numTopics, 2000)\n",
    "    \n",
    "    loli = sampler.loglikelihood()\n",
    "    \n",
    "    pxy = sampler.perplexity()\n",
    "        \n",
    "    print(str(hsc) + \",\" + str(ss) + \",\" + str(dbs) + \",\" + str(chs) + \",\" + str(loli) + \",\" + str(pxy))"
   ]
  },
  {
   "cell_type": "code",
   "execution_count": 9,
   "metadata": {},
   "outputs": [
    {
     "name": "stdout",
     "output_type": "stream",
     "text": [
      "dumps/processed/BTM_sampler_amazon_electronics_20000_noembeds\n",
      "0.06808218748127332,-0.006343196774703869,57.603922392897104,-19.372165800934482,-38847246.949354365,710950032.0082802\n",
      "dumps/processed/BTM_sampler_amazon_home_20000_noembeds\n",
      "0.057399141074711585,-0.003996922895467817,58.87787267450351,-17.64002067290498,-38129207.31033161,839982118.0561457\n",
      "dumps/processed/BTM_sampler_amazon_kindle_20000_noembeds\n",
      "0.05154547104474142,-0.008996759522358158,68.58040505737395,-15.966641515486806,-35662401.63378997,70634984.65785408\n",
      "dumps/processed/BTM_sampler_imdb_reviews_20000_noembeds\n",
      "0.06051572241707682,-0.0022679811733667945,74.80215761518713,-12.569004225447788,-76271732.64499848,625237498.1871907\n",
      "dumps/processed/BTM_sampler_twitter_airline_9061_noembeds\n",
      "0.0407682914908316,-0.00302091052176187,32.78713062583353,-22.790028374961576,-3769235.536544397,3043962.2300241864\n"
     ]
    }
   ],
   "source": [
    "for i in dumps:\n",
    "    print(i)\n",
    "    get_scores(sampler = joblib.load(i))"
   ]
  },
  {
   "cell_type": "code",
   "execution_count": null,
   "metadata": {},
   "outputs": [],
   "source": []
  },
  {
   "cell_type": "code",
   "execution_count": null,
   "metadata": {},
   "outputs": [],
   "source": []
  },
  {
   "cell_type": "code",
   "execution_count": null,
   "metadata": {},
   "outputs": [],
   "source": []
  },
  {
   "cell_type": "code",
   "execution_count": null,
   "metadata": {},
   "outputs": [],
   "source": []
  },
  {
   "cell_type": "code",
   "execution_count": null,
   "metadata": {},
   "outputs": [],
   "source": []
  },
  {
   "cell_type": "code",
   "execution_count": null,
   "metadata": {},
   "outputs": [],
   "source": []
  },
  {
   "cell_type": "code",
   "execution_count": null,
   "metadata": {},
   "outputs": [],
   "source": []
  }
 ],
 "metadata": {
  "kernelspec": {
   "display_name": "Python3_new",
   "language": "python",
   "name": "python3_new"
  },
  "language_info": {
   "codemirror_mode": {
    "name": "ipython",
    "version": 3
   },
   "file_extension": ".py",
   "mimetype": "text/x-python",
   "name": "python",
   "nbconvert_exporter": "python",
   "pygments_lexer": "ipython3",
   "version": "3.7.4"
  }
 },
 "nbformat": 4,
 "nbformat_minor": 2
}
