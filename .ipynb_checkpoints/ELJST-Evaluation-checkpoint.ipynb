{
 "cells": [
  {
   "cell_type": "code",
   "execution_count": 1,
   "metadata": {},
   "outputs": [],
   "source": [
    "from tqdm import tqdm\n",
    "from collections import Counter\n",
    "from itertools import combinations\n",
    "from nltk.stem import PorterStemmer\n",
    "import joblib \n",
    "from sklearn.metrics import silhouette_score, davies_bouldin_score\n",
    "from sklearn.metrics.pairwise import euclidean_distances\n",
    "\n",
    "import imp, glob\n",
    "import copy\n",
    "import pickle\n",
    "import multiprocessing\n",
    "\n",
    "import numpy as np\n",
    "import pandas as pd\n",
    "import utils as my_utils\n",
    "import ELJST_script_BTM as lda\n",
    "import matplotlib.pyplot as plt"
   ]
  },
  {
   "cell_type": "code",
   "execution_count": 2,
   "metadata": {},
   "outputs": [],
   "source": [
    "import utils as my_utils"
   ]
  },
  {
   "cell_type": "code",
   "execution_count": 3,
   "metadata": {},
   "outputs": [],
   "source": [
    "def getTopKWordsClubbed(self, K):\n",
    "    pseudocounts = np.copy(self.n_vts)\n",
    "    s1, s2, s3 = pseudocounts.shape\n",
    "    pseudocounts = pseudocounts.reshape(s1, s2*s3)\n",
    "    normalizer = np.sum(pseudocounts, (0))\n",
    "    pseudocounts /= normalizer[np.newaxis, :]\n",
    "    worddict = {}\n",
    "    for t in range(self.numTopics):\n",
    "        topWordIndices = pseudocounts[:, t].argsort()[-K:]\n",
    "        vocab = self.vectorizer.get_feature_names()\n",
    "        worddict[t] = [vocab[i] for i in topWordIndices]\n",
    "    return worddict"
   ]
  },
  {
   "cell_type": "markdown",
   "metadata": {},
   "source": [
    "# Model Evaluations"
   ]
  },
  {
   "cell_type": "code",
   "execution_count": 4,
   "metadata": {},
   "outputs": [],
   "source": [
    "folder = \"dumps/processed/Uni_sampler_*\""
   ]
  },
  {
   "cell_type": "code",
   "execution_count": 5,
   "metadata": {},
   "outputs": [],
   "source": [
    "dumps = glob.glob(folder)"
   ]
  },
  {
   "cell_type": "code",
   "execution_count": 6,
   "metadata": {},
   "outputs": [],
   "source": [
    "dumps.sort()"
   ]
  },
  {
   "cell_type": "code",
   "execution_count": 7,
   "metadata": {},
   "outputs": [
    {
     "data": {
      "text/plain": [
       "['dumps/processed/Uni_sampler_amazon_home_20000_bert_0.95',\n",
       " 'dumps/processed/Uni_sampler_amazon_home_20000_bert_attention',\n",
       " 'dumps/processed/Uni_sampler_amazon_home_20000_fasttext_0.3',\n",
       " 'dumps/processed/Uni_sampler_amazon_home_20000_fasttext_0.6',\n",
       " 'dumps/processed/Uni_sampler_amazon_home_20000_glove_0.3',\n",
       " 'dumps/processed/Uni_sampler_amazon_home_20000_glove_0.6',\n",
       " 'dumps/processed/Uni_sampler_amazon_home_20000_noembeds',\n",
       " 'dumps/processed/Uni_sampler_amazon_home_20000_trained_0.3',\n",
       " 'dumps/processed/Uni_sampler_amazon_home_20000_trained_0.6',\n",
       " 'dumps/processed/Uni_sampler_amazon_kindle_20000_bert_0.95',\n",
       " 'dumps/processed/Uni_sampler_amazon_kindle_20000_bert_attention',\n",
       " 'dumps/processed/Uni_sampler_amazon_kindle_20000_fasttext_0.3',\n",
       " 'dumps/processed/Uni_sampler_amazon_kindle_20000_fasttext_0.6',\n",
       " 'dumps/processed/Uni_sampler_amazon_kindle_20000_glove_0.3',\n",
       " 'dumps/processed/Uni_sampler_amazon_kindle_20000_glove_0.6',\n",
       " 'dumps/processed/Uni_sampler_amazon_kindle_20000_noembeds',\n",
       " 'dumps/processed/Uni_sampler_amazon_kindle_20000_trained_0.3',\n",
       " 'dumps/processed/Uni_sampler_amazon_kindle_20000_trained_0.6',\n",
       " 'dumps/processed/Uni_sampler_amazon_movies_20000_bert_0.95',\n",
       " 'dumps/processed/Uni_sampler_amazon_movies_20000_bert_attention',\n",
       " 'dumps/processed/Uni_sampler_amazon_movies_20000_fasttext_0.3',\n",
       " 'dumps/processed/Uni_sampler_amazon_movies_20000_fasttext_0.6',\n",
       " 'dumps/processed/Uni_sampler_amazon_movies_20000_glove_0.3',\n",
       " 'dumps/processed/Uni_sampler_amazon_movies_20000_glove_0.6',\n",
       " 'dumps/processed/Uni_sampler_amazon_movies_20000_noembeds',\n",
       " 'dumps/processed/Uni_sampler_amazon_movies_20000_trained_0.3',\n",
       " 'dumps/processed/Uni_sampler_amazon_movies_20000_trained_0.6']"
      ]
     },
     "execution_count": 7,
     "metadata": {},
     "output_type": "execute_result"
    }
   ],
   "source": [
    "dumps"
   ]
  },
  {
   "cell_type": "code",
   "execution_count": 14,
   "metadata": {},
   "outputs": [],
   "source": [
    "def get_scores(sampler):\n",
    "    \n",
    "#     ss = silhouette_score(euclidean_distances(sampler.wordOccuranceMatrix),\n",
    "#                  sampler.dt_distribution.argmax(axis=1), metric='precomputed')\n",
    "    \n",
    "#     dbs = davies_bouldin_score(sampler.wordOccuranceMatrix, sampler.dt_distribution.argmax(axis=1))\n",
    "    \n",
    "    chs = my_utils.coherence_score(sampler.wordOccuranceMatrix, list(getTopKWordsClubbed(sampler, 10).values()), sampler.vocabulary)\n",
    "    \n",
    "#     hsc = my_utils.get_hscore_multi(sampler.dt_distribution, sampler.wordOccuranceMatrix, sampler.numTopics, 2000)\n",
    "    \n",
    "#     loli = sampler.loglikelihood()\n",
    "    \n",
    "#     pxy = sampler.perplexity()\n",
    "    \n",
    "    chs2 = my_utils.coherence_score2(sampler.wordOccuranceMatrix, list(getTopKWordsClubbed(sampler, 10).values()), sampler.vocabulary)\n",
    "        \n",
    "#     print(str(hsc) + \",\" + str(ss) + \",\" + str(dbs) + \",\" + str(chs) + \",\" + str(loli) + \",\" + str(pxy) + \",\" + str(chs2))\n",
    "\n",
    "    print(str(round(chs, 2)) + \",\" + str(round(chs2, 4)))"
   ]
  },
  {
   "cell_type": "code",
   "execution_count": 15,
   "metadata": {
    "scrolled": false
   },
   "outputs": [
    {
     "name": "stdout",
     "output_type": "stream",
     "text": [
      "Uni_sampler_amazon_home_20000_bert_0.95\n",
      "-109.68,0.2103\n",
      "Uni_sampler_amazon_home_20000_bert_attention\n",
      "-105.92,0.1235\n",
      "Uni_sampler_amazon_home_20000_fasttext_0.3\n",
      "-99.56,0.1101\n",
      "Uni_sampler_amazon_home_20000_fasttext_0.6\n",
      "-106.63,0.1204\n",
      "Uni_sampler_amazon_home_20000_glove_0.3\n",
      "-105.32,0.1651\n",
      "Uni_sampler_amazon_home_20000_glove_0.6\n",
      "-105.64,0.1371\n",
      "Uni_sampler_amazon_home_20000_noembeds\n",
      "-118.49,-0.6769\n",
      "Uni_sampler_amazon_home_20000_trained_0.3\n",
      "-106.06,0.0966\n",
      "Uni_sampler_amazon_home_20000_trained_0.6\n",
      "-110.49,-0.0518\n",
      "Uni_sampler_amazon_kindle_20000_bert_0.95\n",
      "-84.43,0.1521\n",
      "Uni_sampler_amazon_kindle_20000_bert_attention\n",
      "-82.11,0.1444\n",
      "Uni_sampler_amazon_kindle_20000_fasttext_0.3\n",
      "-91.7,0.1419\n",
      "Uni_sampler_amazon_kindle_20000_fasttext_0.6\n",
      "-76.49,0.1228\n",
      "Uni_sampler_amazon_kindle_20000_glove_0.3\n",
      "-84.01,0.1787\n",
      "Uni_sampler_amazon_kindle_20000_glove_0.6\n",
      "-81.11,0.1368\n",
      "Uni_sampler_amazon_kindle_20000_noembeds\n",
      "-103.76,0.116\n",
      "Uni_sampler_amazon_kindle_20000_trained_0.3\n",
      "-87.4,0.107\n",
      "Uni_sampler_amazon_kindle_20000_trained_0.6\n",
      "-85.2,0.1321\n",
      "Uni_sampler_amazon_movies_20000_bert_0.95\n",
      "-100.74,0.1671\n",
      "Uni_sampler_amazon_movies_20000_bert_attention\n",
      "-96.02,0.1176\n",
      "Uni_sampler_amazon_movies_20000_fasttext_0.3\n",
      "-96.69,0.0885\n",
      "Uni_sampler_amazon_movies_20000_fasttext_0.6\n",
      "-92.8,0.1117\n",
      "Uni_sampler_amazon_movies_20000_glove_0.3\n",
      "-95.77,0.1404\n",
      "Uni_sampler_amazon_movies_20000_glove_0.6\n",
      "-93.5,0.1311\n",
      "Uni_sampler_amazon_movies_20000_noembeds\n",
      "-98.37,0.1957\n",
      "Uni_sampler_amazon_movies_20000_trained_0.3\n",
      "-95.1,0.1379\n",
      "Uni_sampler_amazon_movies_20000_trained_0.6\n",
      "-95.1,0.1379\n"
     ]
    }
   ],
   "source": [
    "for i in dumps:\n",
    "    print(i.split(\"/\")[-1])\n",
    "    get_scores(sampler = joblib.load(i))"
   ]
  },
  {
   "cell_type": "code",
   "execution_count": null,
   "metadata": {},
   "outputs": [],
   "source": []
  },
  {
   "cell_type": "code",
   "execution_count": null,
   "metadata": {},
   "outputs": [],
   "source": []
  },
  {
   "cell_type": "code",
   "execution_count": null,
   "metadata": {},
   "outputs": [],
   "source": []
  },
  {
   "cell_type": "code",
   "execution_count": null,
   "metadata": {},
   "outputs": [],
   "source": []
  },
  {
   "cell_type": "code",
   "execution_count": null,
   "metadata": {},
   "outputs": [],
   "source": []
  },
  {
   "cell_type": "code",
   "execution_count": null,
   "metadata": {},
   "outputs": [],
   "source": []
  }
 ],
 "metadata": {
  "kernelspec": {
   "display_name": "Python3_new",
   "language": "python",
   "name": "python3_new"
  },
  "language_info": {
   "codemirror_mode": {
    "name": "ipython",
    "version": 3
   },
   "file_extension": ".py",
   "mimetype": "text/x-python",
   "name": "python",
   "nbconvert_exporter": "python",
   "pygments_lexer": "ipython3",
   "version": "3.7.4"
  }
 },
 "nbformat": 4,
 "nbformat_minor": 2
}
