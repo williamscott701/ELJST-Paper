{
 "cells": [
  {
   "cell_type": "code",
   "execution_count": 1,
   "metadata": {},
   "outputs": [],
   "source": [
    "from collections import Counter\n",
    "from scipy import spatial\n",
    "import joblib\n",
    "from sklearn.metrics.pairwise import euclidean_distances\n",
    "\n",
    "import imp, multiprocessing\n",
    "import LDA_ETM as lda\n",
    "import glob\n",
    "import os\n",
    "import numpy as np\n",
    "import copy\n",
    "import pandas as pd\n",
    "import pickle\n",
    "import utils as my_utils\n",
    "from sklearn.metrics import silhouette_score, davies_bouldin_score"
   ]
  },
  {
   "cell_type": "code",
   "execution_count": 2,
   "metadata": {},
   "outputs": [],
   "source": [
    "folder = \"dumps/mrf_lda/*\""
   ]
  },
  {
   "cell_type": "markdown",
   "metadata": {},
   "source": [
    "# Evaluations"
   ]
  },
  {
   "cell_type": "code",
   "execution_count": 3,
   "metadata": {},
   "outputs": [],
   "source": [
    "dumps = glob.glob(folder)"
   ]
  },
  {
   "cell_type": "code",
   "execution_count": 4,
   "metadata": {},
   "outputs": [
    {
     "data": {
      "text/plain": [
       "['dumps/mrf_lda/imdb_reviews_2_20000_glove_0.6',\n",
       " 'dumps/mrf_lda/amazon_electronics_2_20000_glove_0.6',\n",
       " 'dumps/mrf_lda/amazon_movies_20000_glove_0.6',\n",
       " 'dumps/mrf_lda/amazon_kindle_20000_glove_0.6',\n",
       " 'dumps/mrf_lda/amazon_electronics_20000_glove_0.6',\n",
       " 'dumps/mrf_lda/amazon_home_20000_glove_0.6',\n",
       " 'dumps/mrf_lda/twitter_airline_2_7168_glove_0.6',\n",
       " 'dumps/mrf_lda/twitter_airline_9061_glove_0.6',\n",
       " 'dumps/mrf_lda/imdb_reviews_20000_glove_0.6',\n",
       " 'dumps/mrf_lda/amazon_movies_2_20000_glove_0.6']"
      ]
     },
     "execution_count": 4,
     "metadata": {},
     "output_type": "execute_result"
    }
   ],
   "source": [
    "dumps"
   ]
  },
  {
   "cell_type": "code",
   "execution_count": 5,
   "metadata": {},
   "outputs": [],
   "source": [
    "def get_scores(sampler):\n",
    "\n",
    "#     dt_distribution = sampler.theta()\n",
    "\n",
    "#     ss = silhouette_score(euclidean_distances(sampler.matrix),\n",
    "#                           dt_distribution.argmax(axis=1), metric='precomputed')\n",
    "\n",
    "#     dbs = davies_bouldin_score(sampler.matrix, dt_distribution.argmax(axis=1))\n",
    "\n",
    "    chs = my_utils.coherence_score2(sampler.matrix, list(sampler.getTopKWords(5, sampler.words).values()), sampler.vocabulary)\n",
    "    print(chs)\n",
    "\n",
    "#     hsc = my_utils.get_hscore_multi(dt_distribution, sampler.matrix, sampler.n_topics, 2000)\n",
    "\n",
    "#     loli = sampler.loglikelihood()\n",
    "\n",
    "#     pxy = sampler.perplexity()\n",
    "\n",
    "#     print(str(hsc) + \",\" + str(ss) + \",\" + str(dbs) + \",\" + str(chs) + \",\" + str(loli) + \",\" + str(pxy))"
   ]
  },
  {
   "cell_type": "code",
   "execution_count": null,
   "metadata": {},
   "outputs": [],
   "source": []
  },
  {
   "cell_type": "code",
   "execution_count": 7,
   "metadata": {},
   "outputs": [],
   "source": [
    "# for i in dumps:\n",
    "#     print(i)\n",
    "#     get_scores(sampler = joblib.load(i))"
   ]
  },
  {
   "cell_type": "code",
   "execution_count": null,
   "metadata": {},
   "outputs": [],
   "source": []
  },
  {
   "cell_type": "code",
   "execution_count": 8,
   "metadata": {},
   "outputs": [
    {
     "data": {
      "text/plain": [
       "<module 'utils' from '/home/william18026/Embedding-LJST-Paper/utils.py'>"
      ]
     },
     "execution_count": 8,
     "metadata": {},
     "output_type": "execute_result"
    }
   ],
   "source": [
    "imp.reload(my_utils)"
   ]
  },
  {
   "cell_type": "code",
   "execution_count": 9,
   "metadata": {},
   "outputs": [
    {
     "name": "stdout",
     "output_type": "stream",
     "text": [
      "-1.7073701412001971\n"
     ]
    }
   ],
   "source": [
    "get_scores(sampler = joblib.load(\"dumps/mrf_lda/amazon_movies_20000_glove_0.6\"))"
   ]
  },
  {
   "cell_type": "code",
   "execution_count": 10,
   "metadata": {},
   "outputs": [
    {
     "name": "stdout",
     "output_type": "stream",
     "text": [
      "-3.763315597277788\n"
     ]
    }
   ],
   "source": [
    "get_scores(sampler = joblib.load(\"dumps/mrf_lda/amazon_kindle_20000_glove_0.6\"))"
   ]
  },
  {
   "cell_type": "code",
   "execution_count": 11,
   "metadata": {},
   "outputs": [
    {
     "name": "stdout",
     "output_type": "stream",
     "text": [
      "-5.273371064348517\n"
     ]
    }
   ],
   "source": [
    "get_scores(sampler = joblib.load(\"dumps/mrf_lda/amazon_home_20000_glove_0.6\"))"
   ]
  },
  {
   "cell_type": "code",
   "execution_count": null,
   "metadata": {},
   "outputs": [],
   "source": []
  },
  {
   "cell_type": "code",
   "execution_count": null,
   "metadata": {},
   "outputs": [],
   "source": []
  },
  {
   "cell_type": "code",
   "execution_count": null,
   "metadata": {},
   "outputs": [],
   "source": []
  },
  {
   "cell_type": "markdown",
   "metadata": {},
   "source": [
    "# Appendix"
   ]
  },
  {
   "cell_type": "code",
   "execution_count": null,
   "metadata": {},
   "outputs": [],
   "source": [
    "# dt_dist = sampler.theta()\n",
    "\n",
    "# X_embedded = TSNE(n_components=2).fit_transform(dt_dist)\n",
    "\n",
    "# import matplotlib.pyplot as plt\n",
    "# from sklearn.manifold import TSNE\n",
    "\n",
    "# plt.figure(figsize=(8, 8))\n",
    "# plt.scatter([i[0] for i in X_embedded], [i[1] for i in X_embedded], c=dt_dist.argmax(axis=1))\n",
    "# plt.legend(loc=2)\n",
    "# plt.show()"
   ]
  },
  {
   "cell_type": "code",
   "execution_count": null,
   "metadata": {},
   "outputs": [],
   "source": [
    "#     print \"\"\n",
    "#     print \"Topics:\", k\n",
    "#     print \"Coherance:\", my_utils.coherence_score(count_matrix, top_words, vocabulary)\n",
    "#     print \"Silhouette Score:\", silhouette_score(count_matrix, dt_distribution.argmax(axis=1))\n",
    "#     print \"Davies Bouldin Score:\", davies_bouldin_score(count_matrix, dt_distribution.argmax(axis=1))"
   ]
  },
  {
   "cell_type": "code",
   "execution_count": null,
   "metadata": {},
   "outputs": [],
   "source": []
  }
 ],
 "metadata": {
  "kernelspec": {
   "display_name": "Python3_new",
   "language": "python",
   "name": "python3_new"
  },
  "language_info": {
   "codemirror_mode": {
    "name": "ipython",
    "version": 3
   },
   "file_extension": ".py",
   "mimetype": "text/x-python",
   "name": "python",
   "nbconvert_exporter": "python",
   "pygments_lexer": "ipython3",
   "version": "3.7.4"
  }
 },
 "nbformat": 4,
 "nbformat_minor": 2
}
