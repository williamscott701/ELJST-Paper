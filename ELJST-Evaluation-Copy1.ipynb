{
 "cells": [
  {
   "cell_type": "code",
   "execution_count": 1,
   "metadata": {},
   "outputs": [],
   "source": [
    "from tqdm import tqdm\n",
    "from collections import Counter\n",
    "from itertools import combinations\n",
    "from nltk.stem import PorterStemmer\n",
    "import joblib \n",
    "from sklearn.metrics import silhouette_score, davies_bouldin_score\n",
    "from sklearn.metrics.pairwise import euclidean_distances\n",
    "\n",
    "import imp, glob\n",
    "import copy\n",
    "import pickle\n",
    "import multiprocessing\n",
    "\n",
    "import numpy as np\n",
    "import pandas as pd\n",
    "import utils as my_utils\n",
    "import ELJST_script_BTM as lda\n",
    "import matplotlib.pyplot as plt"
   ]
  },
  {
   "cell_type": "code",
   "execution_count": 2,
   "metadata": {},
   "outputs": [],
   "source": [
    "import utils as my_utils"
   ]
  },
  {
   "cell_type": "code",
   "execution_count": 3,
   "metadata": {},
   "outputs": [],
   "source": [
    "def getTopKWordsClubbed(self, K):\n",
    "    pseudocounts = np.copy(self.n_vts)\n",
    "    s1, s2, s3 = pseudocounts.shape\n",
    "    pseudocounts = pseudocounts.reshape(s1, s2*s3)\n",
    "    normalizer = np.sum(pseudocounts, (0))\n",
    "    pseudocounts /= normalizer[np.newaxis, :]\n",
    "    worddict = {}\n",
    "    for t in range(self.numTopics):\n",
    "        topWordIndices = pseudocounts[:, t].argsort()[-K:]\n",
    "        vocab = self.vectorizer.get_feature_names()\n",
    "        worddict[t] = [vocab[i] for i in topWordIndices]\n",
    "    return worddict"
   ]
  },
  {
   "cell_type": "code",
   "execution_count": 10,
   "metadata": {},
   "outputs": [],
   "source": [
    "def get_diversity_score2(l):\n",
    "    sampler = joblib.load(l)\n",
    "    top_k = list(getTopKWordsClubbed(sampler, 10).values())\n",
    "    return len(np.unique(top_k))/(len(top_k)*len(top_k[0]))"
   ]
  },
  {
   "cell_type": "markdown",
   "metadata": {},
   "source": [
    "# Model Evaluations"
   ]
  },
  {
   "cell_type": "code",
   "execution_count": 6,
   "metadata": {},
   "outputs": [],
   "source": [
    "folder = \"dumps/processed/Uni*\""
   ]
  },
  {
   "cell_type": "code",
   "execution_count": 7,
   "metadata": {},
   "outputs": [],
   "source": [
    "dumps = glob.glob(folder)"
   ]
  },
  {
   "cell_type": "code",
   "execution_count": 8,
   "metadata": {},
   "outputs": [],
   "source": [
    "dumps.sort()"
   ]
  },
  {
   "cell_type": "code",
   "execution_count": null,
   "metadata": {},
   "outputs": [],
   "source": []
  },
  {
   "cell_type": "code",
   "execution_count": 12,
   "metadata": {},
   "outputs": [],
   "source": [
    "pool = multiprocessing.Pool(45)\n",
    "results = pool.map(get_diversity_score2, dumps)\n",
    "pool.close()"
   ]
  },
  {
   "cell_type": "code",
   "execution_count": null,
   "metadata": {},
   "outputs": [],
   "source": []
  },
  {
   "cell_type": "code",
   "execution_count": 13,
   "metadata": {},
   "outputs": [
    {
     "name": "stdout",
     "output_type": "stream",
     "text": [
      "0.74 dumps/processed/Uni_sampler_amazon_home_20000_bert_0.95\n",
      "0.4 dumps/processed/Uni_sampler_amazon_home_20000_bert_0.95_25topics\n",
      "0.35 dumps/processed/Uni_sampler_amazon_home_20000_bert_0.95_50topics\n",
      "0.78 dumps/processed/Uni_sampler_amazon_home_20000_bert_attention\n",
      "0.38 dumps/processed/Uni_sampler_amazon_home_20000_bert_attention_25topics\n",
      "0.35 dumps/processed/Uni_sampler_amazon_home_20000_bert_attention_50topics\n",
      "0.41 dumps/processed/Uni_sampler_amazon_home_20000_bert_attention_all_25topics\n",
      "0.34 dumps/processed/Uni_sampler_amazon_home_20000_bert_attention_all_50topics\n",
      "0.7 dumps/processed/Uni_sampler_amazon_home_20000_bert_attention_all_5topics\n",
      "0.6 dumps/processed/Uni_sampler_amazon_home_20000_fasttext_0.3\n",
      "0.4 dumps/processed/Uni_sampler_amazon_home_20000_fasttext_0.3_25topics\n",
      "0.38 dumps/processed/Uni_sampler_amazon_home_20000_fasttext_0.3_50topics\n",
      "0.76 dumps/processed/Uni_sampler_amazon_home_20000_fasttext_0.6\n",
      "0.38 dumps/processed/Uni_sampler_amazon_home_20000_fasttext_0.6_25topics\n",
      "0.35 dumps/processed/Uni_sampler_amazon_home_20000_fasttext_0.6_50topics\n",
      "0.72 dumps/processed/Uni_sampler_amazon_home_20000_glove_0.3\n",
      "0.38 dumps/processed/Uni_sampler_amazon_home_20000_glove_0.3_25topics\n",
      "0.36 dumps/processed/Uni_sampler_amazon_home_20000_glove_0.3_50topics\n",
      "0.7 dumps/processed/Uni_sampler_amazon_home_20000_glove_0.6\n",
      "0.38 dumps/processed/Uni_sampler_amazon_home_20000_glove_0.6_25topics\n",
      "0.35 dumps/processed/Uni_sampler_amazon_home_20000_glove_0.6_50topics\n",
      "0.7 dumps/processed/Uni_sampler_amazon_home_20000_noembeds\n",
      "0.38 dumps/processed/Uni_sampler_amazon_home_20000_noembeds_25topics\n",
      "0.35 dumps/processed/Uni_sampler_amazon_home_20000_noembeds_50topics\n",
      "0.72 dumps/processed/Uni_sampler_amazon_home_20000_trained_0.3\n",
      "0.41 dumps/processed/Uni_sampler_amazon_home_20000_trained_0.3_25topics\n",
      "0.35 dumps/processed/Uni_sampler_amazon_home_20000_trained_0.3_50topics\n",
      "0.74 dumps/processed/Uni_sampler_amazon_home_20000_trained_0.6\n",
      "0.38 dumps/processed/Uni_sampler_amazon_home_20000_trained_0.6_25topics\n",
      "0.35 dumps/processed/Uni_sampler_amazon_home_20000_trained_0.6_50topics\n",
      "0.48 dumps/processed/Uni_sampler_amazon_kindle_20000_bert_0.95\n",
      "0.3 dumps/processed/Uni_sampler_amazon_kindle_20000_bert_0.95_25topics\n",
      "0.46 dumps/processed/Uni_sampler_amazon_kindle_20000_bert_attention\n",
      "0.34 dumps/processed/Uni_sampler_amazon_kindle_20000_bert_attention_25topics\n",
      "0.52 dumps/processed/Uni_sampler_amazon_kindle_20000_fasttext_0.3\n",
      "0.4 dumps/processed/Uni_sampler_amazon_kindle_20000_fasttext_0.6\n",
      "0.48 dumps/processed/Uni_sampler_amazon_kindle_20000_glove_0.3\n",
      "0.46 dumps/processed/Uni_sampler_amazon_kindle_20000_glove_0.6\n",
      "0.66 dumps/processed/Uni_sampler_amazon_kindle_20000_noembeds\n",
      "0.52 dumps/processed/Uni_sampler_amazon_kindle_20000_trained_0.3\n",
      "0.5 dumps/processed/Uni_sampler_amazon_kindle_20000_trained_0.6\n",
      "0.58 dumps/processed/Uni_sampler_amazon_movies_20000_bert_0.95\n",
      "0.32 dumps/processed/Uni_sampler_amazon_movies_20000_bert_0.95_25topics\n",
      "0.3 dumps/processed/Uni_sampler_amazon_movies_20000_bert_0.95_50topics\n",
      "0.52 dumps/processed/Uni_sampler_amazon_movies_20000_bert_attention\n",
      "0.34 dumps/processed/Uni_sampler_amazon_movies_20000_bert_attention_25topics\n",
      "0.3 dumps/processed/Uni_sampler_amazon_movies_20000_bert_attention_50topics\n",
      "0.52 dumps/processed/Uni_sampler_amazon_movies_20000_fasttext_0.3\n",
      "0.5 dumps/processed/Uni_sampler_amazon_movies_20000_fasttext_0.6\n",
      "0.3 dumps/processed/Uni_sampler_amazon_movies_20000_fasttext_0.6_25topics\n",
      "0.3 dumps/processed/Uni_sampler_amazon_movies_20000_fasttext_0.6_50topics\n",
      "0.58 dumps/processed/Uni_sampler_amazon_movies_20000_glove_0.3\n",
      "0.37 dumps/processed/Uni_sampler_amazon_movies_20000_glove_0.3_25topics\n",
      "0.52 dumps/processed/Uni_sampler_amazon_movies_20000_glove_0.6\n",
      "0.34 dumps/processed/Uni_sampler_amazon_movies_20000_glove_0.6_25topics\n",
      "0.62 dumps/processed/Uni_sampler_amazon_movies_20000_noembeds\n",
      "0.32 dumps/processed/Uni_sampler_amazon_movies_20000_noembeds_25topics\n",
      "0.58 dumps/processed/Uni_sampler_amazon_movies_20000_trained_0.3\n",
      "0.58 dumps/processed/Uni_sampler_amazon_movies_20000_trained_0.6\n",
      "0.34 dumps/processed/Uni_sampler_amazon_movies_20000_trained_0.6_25topics\n"
     ]
    }
   ],
   "source": [
    "for i, j in zip(dumps, results):\n",
    "    print(round(j, 2), i)"
   ]
  },
  {
   "cell_type": "code",
   "execution_count": null,
   "metadata": {},
   "outputs": [],
   "source": []
  },
  {
   "cell_type": "code",
   "execution_count": null,
   "metadata": {},
   "outputs": [],
   "source": []
  },
  {
   "cell_type": "code",
   "execution_count": null,
   "metadata": {},
   "outputs": [],
   "source": []
  }
 ],
 "metadata": {
  "kernelspec": {
   "display_name": "Python3_new",
   "language": "python",
   "name": "python3_new"
  },
  "language_info": {
   "codemirror_mode": {
    "name": "ipython",
    "version": 3
   },
   "file_extension": ".py",
   "mimetype": "text/x-python",
   "name": "python",
   "nbconvert_exporter": "python",
   "pygments_lexer": "ipython3",
   "version": "3.7.4"
  }
 },
 "nbformat": 4,
 "nbformat_minor": 2
}
